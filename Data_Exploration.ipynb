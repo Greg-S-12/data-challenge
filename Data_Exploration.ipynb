{
 "cells": [
  {
   "cell_type": "code",
   "execution_count": 1,
   "metadata": {},
   "outputs": [],
   "source": [
    "import sqlite3\n",
    "import pandas as pd\n",
    "import numpy as np\n",
    "import seaborn as sns\n",
    "import statsmodels as st\n"
   ]
  },
  {
   "cell_type": "markdown",
   "metadata": {},
   "source": [
    "## Import and view data"
   ]
  },
  {
   "cell_type": "code",
   "execution_count": 2,
   "metadata": {},
   "outputs": [
    {
     "data": {
      "text/html": [
       "<div>\n",
       "<style scoped>\n",
       "    .dataframe tbody tr th:only-of-type {\n",
       "        vertical-align: middle;\n",
       "    }\n",
       "\n",
       "    .dataframe tbody tr th {\n",
       "        vertical-align: top;\n",
       "    }\n",
       "\n",
       "    .dataframe thead th {\n",
       "        text-align: right;\n",
       "    }\n",
       "</style>\n",
       "<table border=\"1\" class=\"dataframe\">\n",
       "  <thead>\n",
       "    <tr style=\"text-align: right;\">\n",
       "      <th></th>\n",
       "      <th>title</th>\n",
       "      <th>review</th>\n",
       "      <th>product_name</th>\n",
       "      <th>iso</th>\n",
       "      <th>score</th>\n",
       "      <th>date</th>\n",
       "      <th>app_bought</th>\n",
       "      <th>money_spent</th>\n",
       "    </tr>\n",
       "  </thead>\n",
       "  <tbody>\n",
       "    <tr>\n",
       "      <th>0</th>\n",
       "      <td>Love it!</td>\n",
       "      <td>I use this app to read r/nosleep stories befor...</td>\n",
       "      <td>Reddit Official App: Trending News and Hot Topics</td>\n",
       "      <td>US</td>\n",
       "      <td>5</td>\n",
       "      <td>17-7-10 0:0:0</td>\n",
       "      <td>47</td>\n",
       "      <td>140</td>\n",
       "    </tr>\n",
       "    <tr>\n",
       "      <th>1</th>\n",
       "      <td>•••</td>\n",
       "      <td>Dank memes</td>\n",
       "      <td>Reddit Official App: Trending News and Hot Topics</td>\n",
       "      <td>MY</td>\n",
       "      <td>5</td>\n",
       "      <td>17-7-10 0:0:0</td>\n",
       "      <td>3</td>\n",
       "      <td>10</td>\n",
       "    </tr>\n",
       "    <tr>\n",
       "      <th>2</th>\n",
       "      <td>Very good app</td>\n",
       "      <td>Love the app, makes using Reddit very convenient</td>\n",
       "      <td>Reddit Official App: Trending News and Hot Topics</td>\n",
       "      <td>US</td>\n",
       "      <td>5</td>\n",
       "      <td>17-7-10 0:0:0</td>\n",
       "      <td>61</td>\n",
       "      <td>182</td>\n",
       "    </tr>\n",
       "    <tr>\n",
       "      <th>3</th>\n",
       "      <td>CNN here</td>\n",
       "      <td>As the CEO of CNN I find this app repulsive. A...</td>\n",
       "      <td>Reddit Official App: Trending News and Hot Topics</td>\n",
       "      <td>US</td>\n",
       "      <td>5</td>\n",
       "      <td>17-7-10 0:0:0</td>\n",
       "      <td>3</td>\n",
       "      <td>6</td>\n",
       "    </tr>\n",
       "    <tr>\n",
       "      <th>4</th>\n",
       "      <td>Easy peasy!</td>\n",
       "      <td>I was infrequent in my visits, mainly mobile w...</td>\n",
       "      <td>Reddit Official App: Trending News and Hot Topics</td>\n",
       "      <td>US</td>\n",
       "      <td>5</td>\n",
       "      <td>17-7-10 0:0:0</td>\n",
       "      <td>59</td>\n",
       "      <td>178</td>\n",
       "    </tr>\n",
       "  </tbody>\n",
       "</table>\n",
       "</div>"
      ],
      "text/plain": [
       "           title                                             review  \\\n",
       "0       Love it!  I use this app to read r/nosleep stories befor...   \n",
       "1            •••                                         Dank memes   \n",
       "2  Very good app   Love the app, makes using Reddit very convenient   \n",
       "3       CNN here  As the CEO of CNN I find this app repulsive. A...   \n",
       "4    Easy peasy!  I was infrequent in my visits, mainly mobile w...   \n",
       "\n",
       "                                        product_name iso  score  \\\n",
       "0  Reddit Official App: Trending News and Hot Topics  US      5   \n",
       "1  Reddit Official App: Trending News and Hot Topics  MY      5   \n",
       "2  Reddit Official App: Trending News and Hot Topics  US      5   \n",
       "3  Reddit Official App: Trending News and Hot Topics  US      5   \n",
       "4  Reddit Official App: Trending News and Hot Topics  US      5   \n",
       "\n",
       "            date  app_bought  money_spent  \n",
       "0  17-7-10 0:0:0          47          140  \n",
       "1  17-7-10 0:0:0           3           10  \n",
       "2  17-7-10 0:0:0          61          182  \n",
       "3  17-7-10 0:0:0           3            6  \n",
       "4  17-7-10 0:0:0          59          178  "
      ]
     },
     "execution_count": 2,
     "metadata": {},
     "output_type": "execute_result"
    }
   ],
   "source": [
    "# Read in as pandas dataframe\n",
    "\n",
    "df = pd.read_csv('reddit_exercise_data.csv')\n",
    "\n",
    "df.head()"
   ]
  },
  {
   "cell_type": "code",
   "execution_count": 3,
   "metadata": {},
   "outputs": [
    {
     "name": "stdout",
     "output_type": "stream",
     "text": [
      "<class 'pandas.core.frame.DataFrame'>\n",
      "RangeIndex: 5000 entries, 0 to 4999\n",
      "Data columns (total 8 columns):\n",
      "title           5000 non-null object\n",
      "review          5000 non-null object\n",
      "product_name    5000 non-null object\n",
      "iso             5000 non-null object\n",
      "score           5000 non-null int64\n",
      "date            5000 non-null object\n",
      "app_bought      5000 non-null int64\n",
      "money_spent     5000 non-null int64\n",
      "dtypes: int64(3), object(5)\n",
      "memory usage: 312.6+ KB\n"
     ]
    }
   ],
   "source": [
    "# Check data types and for null values\n",
    "\n",
    "df.info()"
   ]
  },
  {
   "cell_type": "code",
   "execution_count": 4,
   "metadata": {},
   "outputs": [],
   "source": [
    "df.product_name.unique() # Can drop this as only looking at the reddit app\n",
    "df = df.drop(columns='product_name')"
   ]
  },
  {
   "cell_type": "markdown",
   "metadata": {},
   "source": [
    "## Check the statistics \n",
    "* Are there any unusual figures/outliers? \n",
    "* Range of values?\n",
    "* What are the distributions like?\n",
    "\n",
    "Let's look at a quick description of the data and the distributions for the columns to be binned.\n"
   ]
  },
  {
   "cell_type": "code",
   "execution_count": 5,
   "metadata": {},
   "outputs": [
    {
     "data": {
      "text/html": [
       "<div>\n",
       "<style scoped>\n",
       "    .dataframe tbody tr th:only-of-type {\n",
       "        vertical-align: middle;\n",
       "    }\n",
       "\n",
       "    .dataframe tbody tr th {\n",
       "        vertical-align: top;\n",
       "    }\n",
       "\n",
       "    .dataframe thead th {\n",
       "        text-align: right;\n",
       "    }\n",
       "</style>\n",
       "<table border=\"1\" class=\"dataframe\">\n",
       "  <thead>\n",
       "    <tr style=\"text-align: right;\">\n",
       "      <th></th>\n",
       "      <th>score</th>\n",
       "      <th>app_bought</th>\n",
       "      <th>money_spent</th>\n",
       "    </tr>\n",
       "  </thead>\n",
       "  <tbody>\n",
       "    <tr>\n",
       "      <th>count</th>\n",
       "      <td>5000.00000</td>\n",
       "      <td>5000.000000</td>\n",
       "      <td>5000.000000</td>\n",
       "    </tr>\n",
       "    <tr>\n",
       "      <th>mean</th>\n",
       "      <td>4.55200</td>\n",
       "      <td>48.721200</td>\n",
       "      <td>143.461600</td>\n",
       "    </tr>\n",
       "    <tr>\n",
       "      <th>std</th>\n",
       "      <td>1.01799</td>\n",
       "      <td>28.575178</td>\n",
       "      <td>115.866138</td>\n",
       "    </tr>\n",
       "    <tr>\n",
       "      <th>min</th>\n",
       "      <td>1.00000</td>\n",
       "      <td>0.000000</td>\n",
       "      <td>0.000000</td>\n",
       "    </tr>\n",
       "    <tr>\n",
       "      <th>25%</th>\n",
       "      <td>5.00000</td>\n",
       "      <td>24.000000</td>\n",
       "      <td>53.000000</td>\n",
       "    </tr>\n",
       "    <tr>\n",
       "      <th>50%</th>\n",
       "      <td>5.00000</td>\n",
       "      <td>48.000000</td>\n",
       "      <td>108.000000</td>\n",
       "    </tr>\n",
       "    <tr>\n",
       "      <th>75%</th>\n",
       "      <td>5.00000</td>\n",
       "      <td>72.000000</td>\n",
       "      <td>210.000000</td>\n",
       "    </tr>\n",
       "    <tr>\n",
       "      <th>max</th>\n",
       "      <td>5.00000</td>\n",
       "      <td>100.000000</td>\n",
       "      <td>500.000000</td>\n",
       "    </tr>\n",
       "  </tbody>\n",
       "</table>\n",
       "</div>"
      ],
      "text/plain": [
       "            score   app_bought  money_spent\n",
       "count  5000.00000  5000.000000  5000.000000\n",
       "mean      4.55200    48.721200   143.461600\n",
       "std       1.01799    28.575178   115.866138\n",
       "min       1.00000     0.000000     0.000000\n",
       "25%       5.00000    24.000000    53.000000\n",
       "50%       5.00000    48.000000   108.000000\n",
       "75%       5.00000    72.000000   210.000000\n",
       "max       5.00000   100.000000   500.000000"
      ]
     },
     "execution_count": 5,
     "metadata": {},
     "output_type": "execute_result"
    }
   ],
   "source": [
    "# Can see ranges and mean values\n",
    "df.describe()"
   ]
  },
  {
   "cell_type": "code",
   "execution_count": 6,
   "metadata": {},
   "outputs": [
    {
     "name": "stderr",
     "output_type": "stream",
     "text": [
      "/Users/flatironschool/anaconda3/envs/learn-env/lib/python3.6/site-packages/scipy/stats/stats.py:1713: FutureWarning: Using a non-tuple sequence for multidimensional indexing is deprecated; use `arr[tuple(seq)]` instead of `arr[seq]`. In the future this will be interpreted as an array index, `arr[np.array(seq)]`, which will result either in an error or a different result.\n",
      "  return np.add.reduce(sorted[indexer] * weights, axis=axis) / sumval\n"
     ]
    },
    {
     "data": {
      "image/png": "[encoded data removed]",
      "text/plain": [
       "<Figure size 432x288 with 1 Axes>"
      ]
     },
     "metadata": {
      "needs_background": "light"
     },
     "output_type": "display_data"
    }
   ],
   "source": [
    "sns.distplot(df['money_spent']);"
   ]
  },
  {
   "cell_type": "code",
   "execution_count": 7,
   "metadata": {},
   "outputs": [
    {
     "data": {
      "image/png": "[encoded data removed]",
      "text/plain": [
       "<Figure size 432x288 with 1 Axes>"
      ]
     },
     "metadata": {
      "needs_background": "light"
     },
     "output_type": "display_data"
    }
   ],
   "source": [
    "sns.scatterplot(x=df['money_spent'],y=df['score']);"
   ]
  },
  {
   "cell_type": "code",
   "execution_count": 8,
   "metadata": {},
   "outputs": [],
   "source": [
    "df['money_spent_binned'] = pd.qcut(df['money_spent'], q=4)"
   ]
  },
  {
   "cell_type": "code",
   "execution_count": 9,
   "metadata": {},
   "outputs": [
    {
     "name": "stderr",
     "output_type": "stream",
     "text": [
      "/Users/flatironschool/anaconda3/envs/learn-env/lib/python3.6/site-packages/scipy/stats/stats.py:1713: FutureWarning: Using a non-tuple sequence for multidimensional indexing is deprecated; use `arr[tuple(seq)]` instead of `arr[seq]`. In the future this will be interpreted as an array index, `arr[np.array(seq)]`, which will result either in an error or a different result.\n",
      "  return np.add.reduce(sorted[indexer] * weights, axis=axis) / sumval\n"
     ]
    },
    {
     "data": {
      "image/png": "[encoded data removed]",
      "text/plain": [
       "<Figure size 432x288 with 1 Axes>"
      ]
     },
     "metadata": {
      "needs_background": "light"
     },
     "output_type": "display_data"
    }
   ],
   "source": [
    "sns.distplot(df['app_bought']);"
   ]
  },
  {
   "cell_type": "code",
   "execution_count": 10,
   "metadata": {},
   "outputs": [
    {
     "data": {
      "image/png": "[encoded data removed]",
      "text/plain": [
       "<Figure size 432x288 with 1 Axes>"
      ]
     },
     "metadata": {
      "needs_background": "light"
     },
     "output_type": "display_data"
    }
   ],
   "source": [
    "sns.scatterplot(x=df['app_bought'],y=df['score']);"
   ]
  },
  {
   "cell_type": "code",
   "execution_count": 11,
   "metadata": {},
   "outputs": [],
   "source": [
    "df['apps_bought_binned'] = pd.cut(df['app_bought'], bins=10) # Uniform distribution so can split into bins of equal size\n"
   ]
  },
  {
   "cell_type": "markdown",
   "metadata": {},
   "source": [
    "## Cleaning date column\n",
    "\n",
    "Is the format for the date column standardised?\n",
    "<br>I will assume the data is all for the year 2017\n"
   ]
  },
  {
   "cell_type": "code",
   "execution_count": 12,
   "metadata": {},
   "outputs": [
    {
     "data": {
      "text/plain": [
       "17-6-28 0:0:0          403\n",
       "2017-06-01 00:00:00    391\n",
       "17-6-27 0:0:0          318\n",
       "2017-05-31 00:00:00    296\n",
       "17-6-29 0:0:0          253\n",
       "2017-06-02 00:00:00    233\n",
       "17-6-30 0:0:0          217\n",
       "2017-06-03 00:00:00    135\n",
       "17-7-1 0:0:0           128\n",
       "2017-06-05 00:00:00    125\n",
       "2017-05-24 00:00:00    122\n",
       "17-7-2 0:0:0           116\n",
       "2017-06-06 00:00:00    115\n",
       "17-7-3 0:0:0           113\n",
       "17-7-4 0:0:0           107\n",
       "17-7-9 0:0:0           105\n",
       "17-6-4 0:0:0           100\n",
       "17-7-7 0:0:0            97\n",
       "2017-06-07 00:00:00     97\n",
       "17-7-8 0:0:0            96\n",
       "2017-05-25 00:00:00     93\n",
       "17-7-6 0:0:0            93\n",
       "2017-05-29 00:00:00     91\n",
       "17-7-5 0:0:0            86\n",
       "2017-05-26 00:00:00     84\n",
       "17-6-13 0:0:0           82\n",
       "2017-06-08 00:00:00     78\n",
       "17-6-11 0:0:0           72\n",
       "17-6-14 0:0:0           72\n",
       "2017-05-30 00:00:00     68\n",
       "2017-05-28 00:00:00     66\n",
       "2017-05-27 00:00:00     60\n",
       "2017-06-09 00:00:00     57\n",
       "17-6-12 0:0:0           56\n",
       "17-6-10 0:0:0           53\n",
       "2017-06-04 00:00:00     41\n",
       "17-6-15 0:0:0           32\n",
       "17-6-3 0:0:0            29\n",
       "6/9/17                  27\n",
       "17-6-16 0:0:0           24\n",
       "2017-05-23 00:00:00     23\n",
       "17-6-18 0:0:0           18\n",
       "17-6-19 0:0:0           18\n",
       "17-6-26 0:0:0           15\n",
       "17-7-10 0:0:0           14\n",
       "17-6-21 0:0:0           12\n",
       "17-6-17 0:0:0           12\n",
       "2017-06-10 00:00:00     11\n",
       "17-6-23 0:0:0           11\n",
       "17-6-25 0:0:0           10\n",
       "17-6-22 0:0:0           10\n",
       "17-6-20 0:0:0           10\n",
       "17-6-24 0:0:0            5\n",
       "Name: date, dtype: int64"
      ]
     },
     "execution_count": 12,
     "metadata": {},
     "output_type": "execute_result"
    }
   ],
   "source": [
    "df.date.value_counts() # No, let's convert, as all times are 0 we will neglect them\n"
   ]
  },
  {
   "cell_type": "code",
   "execution_count": 13,
   "metadata": {},
   "outputs": [],
   "source": [
    "# Convert to datetime objects\n",
    "df['date'] = pd.to_datetime(df['date'],yearfirst=True)\n"
   ]
  },
  {
   "cell_type": "code",
   "execution_count": 14,
   "metadata": {},
   "outputs": [
    {
     "ename": "AttributeError",
     "evalue": "'DataFrame' object has no attribute 'ead'",
     "output_type": "error",
     "traceback": [
      "\u001b[0;31m---------------------------------------------------------------------------\u001b[0m",
      "\u001b[0;31mAttributeError\u001b[0m                            Traceback (most recent call last)",
      "\u001b[0;32m<ipython-input-14-b5d32fcb3dcf>\u001b[0m in \u001b[0;36m<module>\u001b[0;34m()\u001b[0m\n\u001b[1;32m     24\u001b[0m \u001b[0;34m\u001b[0m\u001b[0m\n\u001b[1;32m     25\u001b[0m \u001b[0mdf\u001b[0m \u001b[0;34m=\u001b[0m \u001b[0mreassign_dates\u001b[0m\u001b[0;34m(\u001b[0m\u001b[0mdf\u001b[0m\u001b[0;34m,\u001b[0m \u001b[0;34m'date'\u001b[0m\u001b[0;34m,\u001b[0m \u001b[0;34m'2006-09-17'\u001b[0m\u001b[0;34m,\u001b[0m \u001b[0;34m'2017-09-06'\u001b[0m\u001b[0;34m,\u001b[0m\u001b[0myearfirst\u001b[0m\u001b[0;34m=\u001b[0m\u001b[0;36m1\u001b[0m\u001b[0;34m)\u001b[0m\u001b[0;34m\u001b[0m\u001b[0m\n\u001b[0;32m---> 26\u001b[0;31m \u001b[0mdf\u001b[0m\u001b[0;34m.\u001b[0m\u001b[0mead\u001b[0m\u001b[0;34m(\u001b[0m\u001b[0;34m)\u001b[0m\u001b[0;34m\u001b[0m\u001b[0m\n\u001b[0m",
      "\u001b[0;32m~/anaconda3/envs/learn-env/lib/python3.6/site-packages/pandas/core/generic.py\u001b[0m in \u001b[0;36m__getattr__\u001b[0;34m(self, name)\u001b[0m\n\u001b[1;32m   4374\u001b[0m             \u001b[0;32mif\u001b[0m \u001b[0mself\u001b[0m\u001b[0;34m.\u001b[0m\u001b[0m_info_axis\u001b[0m\u001b[0;34m.\u001b[0m\u001b[0m_can_hold_identifiers_and_holds_name\u001b[0m\u001b[0;34m(\u001b[0m\u001b[0mname\u001b[0m\u001b[0;34m)\u001b[0m\u001b[0;34m:\u001b[0m\u001b[0;34m\u001b[0m\u001b[0m\n\u001b[1;32m   4375\u001b[0m                 \u001b[0;32mreturn\u001b[0m \u001b[0mself\u001b[0m\u001b[0;34m[\u001b[0m\u001b[0mname\u001b[0m\u001b[0;34m]\u001b[0m\u001b[0;34m\u001b[0m\u001b[0m\n\u001b[0;32m-> 4376\u001b[0;31m             \u001b[0;32mreturn\u001b[0m \u001b[0mobject\u001b[0m\u001b[0;34m.\u001b[0m\u001b[0m__getattribute__\u001b[0m\u001b[0;34m(\u001b[0m\u001b[0mself\u001b[0m\u001b[0;34m,\u001b[0m \u001b[0mname\u001b[0m\u001b[0;34m)\u001b[0m\u001b[0;34m\u001b[0m\u001b[0m\n\u001b[0m\u001b[1;32m   4377\u001b[0m \u001b[0;34m\u001b[0m\u001b[0m\n\u001b[1;32m   4378\u001b[0m     \u001b[0;32mdef\u001b[0m \u001b[0m__setattr__\u001b[0m\u001b[0;34m(\u001b[0m\u001b[0mself\u001b[0m\u001b[0;34m,\u001b[0m \u001b[0mname\u001b[0m\u001b[0;34m,\u001b[0m \u001b[0mvalue\u001b[0m\u001b[0;34m)\u001b[0m\u001b[0;34m:\u001b[0m\u001b[0;34m\u001b[0m\u001b[0m\n",
      "\u001b[0;31mAttributeError\u001b[0m: 'DataFrame' object has no attribute 'ead'"
     ]
    }
   ],
   "source": [
    "def reassign_dates(dataframe, column_name, original_value, new_value, yearfirst):\n",
    "    \"\"\" Used to locate and re-assign specific row values for datetime objects.\n",
    "    Yearfirst should be a 0 (no) or 1 (yes) integer value\"\"\"\n",
    "        \n",
    "    df=dataframe    \n",
    "    \n",
    "    # Convert to string \n",
    "    df[column_name] = df[column_name].astype('str')\n",
    "\n",
    "    # Re-assign date\n",
    "    df.loc[df[column_name]==original_value, column_name] = new_value\n",
    "\n",
    "    # Convert back to datetime object and check value_counts\n",
    "    if yearfirst==0:\n",
    "        df[column_name] = pd.to_datetime(df[column_name],yearfirst=False)\n",
    "        return df\n",
    "        \n",
    "    elif yearfirst==1:\n",
    "        df[column_name] = pd.to_datetime(df[column_name],yearfirst=True)\n",
    "        return df\n",
    "    \n",
    "    else:\n",
    "        return(\"yearfirst must be 0 or 1 integer value.\")    \n",
    "    \n",
    "df = reassign_dates(df, 'date', '2006-09-17', '2017-09-06',yearfirst=1)\n",
    "df.ead()"
   ]
  },
  {
   "cell_type": "code",
   "execution_count": null,
   "metadata": {},
   "outputs": [],
   "source": [
    "df['full_review'] = df['title'] + df['review']\n"
   ]
  },
  {
   "cell_type": "markdown",
   "metadata": {},
   "source": [
    "### Add 'full_review' column\n",
    "This combinesthe title and review and adds it as a new column. I have done this as I have noticed some reviews lead from the title, especially where the title holds the main information - such as \"No Landscape Mode\"."
   ]
  },
  {
   "cell_type": "code",
   "execution_count": null,
   "metadata": {},
   "outputs": [],
   "source": [
    "import re  # RegularExpressions\n",
    "\n",
    "# The regex code for the symbols and punctuation to be removed. We will simply remove the punctuation but\n",
    "# will replace the set of symbols with a space so we don't join two separate words together!\n",
    "# Also will make all words lowercase.\n",
    "\n",
    "replace_with_space = re.compile(\"(<br\\s*/><br\\s*/>)|(\\-)|(\\/)|(\\n*\\n)|(\\r*\\n)|(#&)\")\n",
    "remove = re.compile(\"[.;:!\\'?,\\\"()\\[\\]]\")\n",
    "\n",
    "def remove_symbols(reviews):\n",
    "    reviews = [replace_with_space.sub(\" \", i.lower()) for i in reviews]\n",
    "    \n",
    "    return reviews\n",
    "\n",
    "def remove_punctuation(reviews):\n",
    "    reviews = [remove.sub(\"\", i.lower() ) for i in reviews]\n",
    "    \n",
    "    return reviews\n",
    "\n",
    "def clean_text(df, text_columns):\n",
    "    for text_column in text_columns:\n",
    "        df[text_column] = remove_symbols(df[text_column])\n",
    "        df[text_column] = remove_punctuation(df[text_column])\n",
    "    \n",
    "    return df\n",
    "\n",
    "# Run function\n",
    "clean_text(df, ['review','full_review'])"
   ]
  },
  {
   "cell_type": "code",
   "execution_count": null,
   "metadata": {},
   "outputs": [],
   "source": [
    "df['full_review'] = df['title'] + df['review']"
   ]
  },
  {
   "cell_type": "code",
   "execution_count": null,
   "metadata": {},
   "outputs": [],
   "source": [
    "# Final check\n",
    "\n",
    "\n",
    "df.head()"
   ]
  }
 ],
 "metadata": {
  "kernelspec": {
   "display_name": "Python [conda env:learn-env] *",
   "language": "python",
   "name": "conda-env-learn-env-py"
  },
  "language_info": {
   "codemirror_mode": {
    "name": "ipython",
    "version": 3
   },
   "file_extension": ".py",
   "mimetype": "text/x-python",
   "name": "python",
   "nbconvert_exporter": "python",
   "pygments_lexer": "ipython3",
   "version": "3.6.6"
  }
 },
 "nbformat": 4,
 "nbformat_minor": 4
}
